{
 "nbformat": 4,
 "nbformat_minor": 0,
 "metadata": {
  "colab": {
   "name": "03 실습 -  데이터 수집 - 네이버 뉴스, 블로그 수집",
   "provenance": [],
   "collapsed_sections": []
  },
  "kernelspec": {
   "name": "python3",
   "language": "python",
   "display_name": "Python 3 (ipykernel)"
  }
 },
 "cells": [
  {
   "cell_type": "markdown",
   "metadata": {
    "id": "oHn7poEYoQPk"
   },
   "source": [
    "# 데이터 수집 - 네이버뉴스, 네이버블로그"
   ]
  },
  {
   "cell_type": "markdown",
   "metadata": {
    "id": "-uhoaT-OoFKV"
   },
   "source": [
    "#1 네이버 뉴스 수집"
   ]
  },
  {
   "cell_type": "code",
   "metadata": {
    "id": "Ag7nsunbLi92",
    "executionInfo": {
     "status": "ok",
     "timestamp": 1637483122074,
     "user_tz": -540,
     "elapsed": 411,
     "user": {
      "displayName": "이민호",
      "photoUrl": "https://lh3.googleusercontent.com/a-/AOh14GiFPPatrtQJJCEfMd6D3DoTVRog9gVm7Ovj5Lex=s64",
      "userId": "15829449822908558555"
     }
    },
    "ExecuteTime": {
     "end_time": "2024-02-16T14:34:01.606725100Z",
     "start_time": "2024-02-16T14:34:01.603224Z"
    }
   },
   "source": [
    "import requests\n",
    "from bs4 import BeautifulSoup\n",
    "\n",
    "def get_naver_news(url) :\n",
    "  h = {'user-agent': 'Mozilla/5.0 (Macintosh; Intel Mac OS X 10_15_7) AppleWebKit/537.36 (KHTML, like Gecko) Chrome/95.0.4638.69 Safari/537.36'}\n",
    "\n",
    "  res = requests.get(url, headers = h)\n",
    "  bs = BeautifulSoup(res.content, 'html.parser')\n",
    "\n",
    "  date = bs.select('div.info')[0].text\n",
    "  title = bs.select('h4.title')[0].text\n",
    "  media = bs.select('span.end_photo_org img')[0]['src']\n",
    "  content = bs.select('div#newsEndContents')[0].get_text().replace('\\n','').replace('\\t','')\n",
    "  content = content.replace('// flash 오류를 우회하기 위한 함수 추가function _flash_removeCallback() {}' ,'')\n",
    "  return (date, title, media, content)\n",
    "\n"
   ],
   "execution_count": 33,
   "outputs": []
  },
  {
   "cell_type": "code",
   "metadata": {
    "id": "gXGcHyy9zsFm",
    "colab": {
     "base_uri": "https://localhost:8080/"
    },
    "executionInfo": {
     "status": "ok",
     "timestamp": 1637483137436,
     "user_tz": -540,
     "elapsed": 1072,
     "user": {
      "displayName": "이민호",
      "photoUrl": "https://lh3.googleusercontent.com/a-/AOh14GiFPPatrtQJJCEfMd6D3DoTVRog9gVm7Ovj5Lex=s64",
      "userId": "15829449822908558555"
     }
    },
    "outputId": "3e3edf20-1d85-4391-a334-f945760f499f",
    "ExecuteTime": {
     "end_time": "2024-02-16T14:34:04.375781800Z",
     "start_time": "2024-02-16T14:34:03.774730500Z"
    }
   },
   "source": [
    "url = \"https://sports.news.naver.com/news?oid=311&aid=0001692421\"\n",
    "\n",
    "get_naver_news(url)"
   ],
   "execution_count": 34,
   "outputs": [
    {
     "data": {
      "text/plain": "('\\n기사입력 2024.02.16. 오후 08:46\\n최종수정 2024.02.16. 오후 08:46\\n기사원문\\n',\n '\"저를 안 좋게 보는 분이 많더라고요\"…\\'두산 내야 중심\\' 허경민, 반전을 꿈꾼다 [시드니 인터뷰]',\n 'https://imgnews.pstatic.net/image/311/2024/02/16/0001692421_001_20240216204601393.jpg?type=w647',\n '(엑스포츠뉴스 시드니, 유준상 기자) 리그와 팀을 대표하는 3루수 중 한 명인 허경민(두산 베어스)을 따라다니는 단어 중 하나는 바로 \\'꾸준함\\'이다.허경민은 첫 풀타임 시즌이었던 2014년부터 지난해까지 매년 100경기 이상 출전했다. 2018년부터 6년 연속 100안타를 돌파하기도 했다. 시간이 지나도 여전한 수비 능력은 그를 더 돋보이게 만든다.특히 허경민은 2015년과 2016년, 2019년까지 세 차례의 한국시리즈 우승을 경험했다. 또한 2015 프리미어12 우승 등 주요 국제대회에 참가해 자신의 가치를 더 끌어올렸다. 2020시즌을 마친 뒤에는 두산과 4+3년 최대 85억원의 조건에 생애 첫 FA 계약을 체결했다.FA 계약 이후에도 여전히 두산의 핫코너는 허경민의 몫이었다. 허경민은 2021년 136경기 468타수 130안타 타율 0.278 5홈런 59타점 OPS(출루율+장타율) 0.703, 2022년 121경기 432타수 125안타 타율 0.289 8홈런 60타점 OPS 0.758, 지난해 130경기 429타수 115안타 타율 0.268 7홈런 48타점 OPS 0.703을 기록했다.물론 수치상으로 FA 계약 이전과 이후를 비교했을 때 아쉬움이 없었다면 거짓말이다. 최근 1차 스프링캠프 장소인 호주 시드니 블랙타운 베이스볼 스타디움에서 만난 허경민은 \"더 잘하고 싶은 마음이 있었다. 또 지난해 그런 결과가 있다 보니까 나에 대해 안 좋은 시선으로 보는 분들이 정말 많았더라. 하지만 올핸 그걸 보란듯이 뒤집어서 떳떳하게 인터뷰할 수 있는 한 해가 됐으면 좋겠다\"고 밝혔다.수치를 끌어올리고 싶었던 허경민은 겨우내 타격에 많은 시간을 투자했다. 그는 \"특별한 기술보다는 스스로에게 좋은 에너지를 주기 위해 노력했고, 좋은 생각을 하면서 훈련하려고 했다\"며 \"당장 말씀드리기는 어렵지만, 겨우내 준비했던 걸 계속 이어가려고 한다. 가만히 놀지 않았다. 잘하고 싶어서, 또 지난해 안 좋았던 부분이 있어서 그걸 좀 더 보완하기 위해 연구했다. (따로) 도움을 청하고 자문을 구하기도 했다. 정말 잘해서 그걸 말씀드릴 수 있었으면 한다. 배움에 끝은 없다\"고 목소리를 높였다.허경민뿐만 아니라 팀도 2023시즌 결과에 대해 만족스럽지 않은 건 마찬가지였다. 두산은 정규시즌 5위로 포스트시즌에 진출했으나 NC 다이노스와의 와일드카드 결정전에서 패하면서 한 경기 만에 가을야구를 마감했다.허경민은 \"누구나 시즌 시작 전에는 좋은 성적을 생각하고 시즌에 임하는데, 끝나고 보니까 조금 아쉬운 결과를 받아들이게 됐다\"면서도 \"그건 지난 거다. 이제는 새로운 시즌이 시작되는 만큼 기대감을 가져야 한다. 팀에게도 중요한 한 시즌이지만, 내게도 정말 중요한 해이기 때문에 아쉬움이 올해까지 이어진다면 스스로에게 좀 실망할 것 같다. 지난해의 부진이 좋은 약이 됐다고 생각하고, 올 시즌엔 좀 더 활기찬 플레이를 많이 보여줘야 하지 않을까 싶다\"고 말했다.또 허경민은 \"수치적으로 정한 건 없다. 타율이나 이런 건 어떻게 할 수 없는 부분이지 않나. (2016년) 전 경기도 뛰었고 나름대로 항상 100경기 이상을 뛴다고 생각하는데, 올해도 많은 시간 동안 그라운드에 있고 싶은 게 목표다. 잘 됐으면 좋겠다\"며 \"수비는 항상 중요하다고 생각했기 때문에 (올해가) 더 중요하다는 생각은 하지 않고 늘 해왔던 대로 최선을 다하고 좋은 플레이를 보여드리겠다\"고 다짐했다.사진=시드니, 박지영 기자, 엑스포츠뉴스 DB기사제공 엑스포츠뉴스유준상 기자 junsang98@xportsnews.com현장에서 작성된 기사입니다.유준상 기자구독유준상 기자의 구독을 취소하시겠습니까?구독에서 해당 기자의 기사가 제외됩니다.예아니오닫기구독자-응원수-KIA, 이범호 제11대 감독 선임…\"임기 내 팀을 정상권에 올려놓겠다\" [공식발표]SSG V5 \\'숨은 주역\\' KIA 오다…\"기필코 우승한다는 마음으로\" [캔버라 인터뷰]Copyright ⓒ 엑스포츠뉴스. All rights reserved. 무단 전재 및 재배포 금지.기사 섹션 분류 가이드기사 섹션 분류 안내스포츠 기사 섹션(종목) 정보는 언론사 분류와 기술 기반의 자동 분류 시스템을 따르고 있습니다. 오분류에 대한 건은 네이버스포츠로 제보 부탁드립니다.오분류 제보하기가이드 닫기')"
     },
     "execution_count": 34,
     "metadata": {},
     "output_type": "execute_result"
    }
   ]
  },
  {
   "cell_type": "markdown",
   "metadata": {
    "id": "C8DSdmicArDP"
   },
   "source": [
    "#2 네이버 블로그 수집"
   ]
  },
  {
   "cell_type": "code",
   "metadata": {
    "id": "J9fQbvi7ArDP",
    "executionInfo": {
     "status": "ok",
     "timestamp": 1637483706670,
     "user_tz": -540,
     "elapsed": 341,
     "user": {
      "displayName": "이민호",
      "photoUrl": "https://lh3.googleusercontent.com/a-/AOh14GiFPPatrtQJJCEfMd6D3DoTVRog9gVm7Ovj5Lex=s64",
      "userId": "15829449822908558555"
     }
    },
    "ExecuteTime": {
     "end_time": "2024-02-16T14:32:32.321987200Z",
     "start_time": "2024-02-16T14:32:32.315211300Z"
    }
   },
   "source": [
    "import requests\n",
    "from bs4 import BeautifulSoup\n",
    "\n",
    "def get_naver_blog(url) : \n",
    "  h = {'user-agent': 'Mozilla/5.0 (Macintosh; Intel Mac OS X 10_15_7) AppleWebKit/537.36 (KHTML, like Gecko) Chrome/95.0.4638.69 Safari/537.36'}\n",
    "\n",
    "  res = requests.get(url, headers = h)\n",
    "  bs = BeautifulSoup(res.content, 'html.parser')\n",
    "\n",
    "  new_url = 'https://blog.naver.com/' + bs.select('iframe')[0]['src']\n",
    "  res = requests.get(new_url, headers = h)\n",
    "  bs = BeautifulSoup(res.content, 'html.parser')\n",
    "\n",
    "  date = bs.select('span.se_publishDate')[0].text\n",
    "  title = bs.select('div.se-title-text p span')[0].text\n",
    "  content = bs.select('div.se-main-container')[0].get_text().replace('\\n','')\n",
    "\n",
    "  return (date, title, content)\n"
   ],
   "execution_count": 27,
   "outputs": []
  },
  {
   "cell_type": "code",
   "metadata": {
    "id": "C1c1yXNRArDS",
    "colab": {
     "base_uri": "https://localhost:8080/"
    },
    "executionInfo": {
     "status": "ok",
     "timestamp": 1637483717667,
     "user_tz": -540,
     "elapsed": 2782,
     "user": {
      "displayName": "이민호",
      "photoUrl": "https://lh3.googleusercontent.com/a-/AOh14GiFPPatrtQJJCEfMd6D3DoTVRog9gVm7Ovj5Lex=s64",
      "userId": "15829449822908558555"
     }
    },
    "outputId": "8c8dcb9e-8e47-4fb1-baf2-b7971bba9f45",
    "ExecuteTime": {
     "end_time": "2024-02-16T14:32:36.061152600Z",
     "start_time": "2024-02-16T14:32:34.720899400Z"
    }
   },
   "source": [
    "url = \"https://blog.naver.com/biomath2k/221755824489\"\n",
    "\n",
    "get_naver_blog(url)"
   ],
   "execution_count": 28,
   "outputs": [
    {
     "data": {
      "text/plain": "('2019. 12. 31. 23:50',\n '[IT] 삼성 청년 SW 아카데미 (SSAFY)',\n '삼성 청년 SW 아카데미는 삼성전자가 주관하고 고용노동부가 후원하는, 청년들의 취업 성공을 돕는 프로그램입니다.   삼성전자가 2019년 11월18일 서울 멀티캠퍼스 교육센터를 포함해 대전, 광주, 구미 등 4개 교육센터에서 삼성 청년 소프트웨어 아카데미 SSAFY(Samsung Software Academy For Youth) 1기 수료식을 열었다.\\u200b‘삼성 청년 소프트웨어 아카데미’는 청소년 교육을 테마로 한 삼성전자  사회공헌 프로그램 중 하나로, 소프트웨어 경쟁력 강화를 통해 국내 IT 생태계 저변을 확대하고 청년 취업 경쟁력을 높이기 위해 미취업 청년들을 대상으로 실시하는 소프트웨어 교육 프로그램이다.\\u200bSSAFY 제현웅 상무는 “오늘 수료하는 학생들은 모두 1년간 매일 8시간씩의 강도 높은 교육을 성실히 이수했으며 열정과 끈기를 겸비했다”라며 “삼성 청년 소프트웨어 아카데미 출신 인력들이 그동안 쌓은 역량을 발휘하며 여러 기업에서 활약하기를 기대한다”라고 말했다.\\u200b삼성전자는 2018년 12월 고용노동부와 ‘삼성 청년 소프트웨어 아카데미 운영지원을 위한 업무협약(MOU)’을 체결해 교육생 선발을 위한 설명회 실시, 교육과정 홍보, 양질의 소프트웨어 교육 등 전반적인 운영부터 취업활동 지원까지 다방면으로 긴밀하게 협력하고 있다.\\u200b1년간 1∙2학기 과정으로 나눠, 1학기는 기본기를 다지는 코딩 기본 교육, 2학기는 실무 중심의 프로젝트 수행 교육으로 진행되며 교육생 전원은 매달 100만원의 지원비를 받는다.\\u200b1학기 기본과정은 5개월 동안 알고리즘과 코딩의 소프트웨어 기본기를 다지는 과정으로, 개인 역량에 따라 분반해 파이썬, 자바 등 프로그래밍 언어와 알고리즘, 프레임워크, 데이터베이스를 중점 학습한다.\\u200b2학기 심화과정은 인공지능(AI), 사물인터넷(IoT) 등 4차 산업혁명 기술을 활용한 프로젝트를 통해 소프트웨어 실전역량을 기르는 과정으로 5개월 동안 진행된다. \\u200b1학기와 달리 교재나 별도의 이론 강의 없이 100%프로젝트 기반으로 진행되며 자기주도형 학습을 통해 스스로 문제 해결 역량을 기를 수 있다. \\u200b기업 현장에서 소프트웨어 개발자들이 실제로 사용하는 개발툴과 시스템도 적극 활용해 실전 적용에 용이하다.\\u200b또한, 1학기가 끝난 후 선발된 우수교육생 25명은 폴란드, 우크라이나, 인도, 중국, 베트남 등 총 5개국의 삼성전자 해외연구소를 방문해 3주 동안 현지에서 다양한 소프트웨어 과제를 수행했다.\\u200b\\u200b입학생 500명, 200여명은 조기 취업삼성 청년 소프트웨어 아카데미는 2018년 12월 서울, 대전, 광주, 구미 등 전국 4개 지역에서 1기로 선발된 500명을 대상으로 교육을 시작해 200여명이 IT기업, 금융회사 등에 조기 취업하는 소기의 성과를 거두었다.\\u200b 상반기에는 삼성 신입공채 26명을 포함해 KT, 네이버, IBK 기업은행 등 다양한 기업에 채용됐다. \\u200b하반기에는 신한은행, LIG넥스원 등 20여개 기업에서 채용 전형시 우대하는 사례들도 나오고 있다.\\u200b이외에도, 취업지원센터를 운영해 개인별 수준과 적성에 맞는 진로 상담, 취업 특강, 채용정보 제공 등의 서비스를 상시 제공하고 있다.\\u200b삼성 청년 소프트웨어 아카데미는 3주간 잡페어를 운영해 교육생들이 취업역량을 스스로 분석하고 취약점을 보완할 수 있는 취업상담, 면접스터디 등 다양한 프로그램을 진행한다.\\u200b SSAFY는 만 29세 이하 미취업자 중 4년제 대학을 졸업했거나 졸업을 앞둔 예정자가 지원할 수 있다. 교육은 매년 1월부터 시작한다.[출처: 블로터]\\u200b 삼성 청년 SW 아카데미삼성 청년 SW 아카데미| SW 교육, 취업 지원, 코딩 교육www.ssafy.com \\u200b ')"
     },
     "execution_count": 28,
     "metadata": {},
     "output_type": "execute_result"
    }
   ]
  },
  {
   "cell_type": "code",
   "metadata": {
    "id": "Jqy_UYHqmrsO"
   },
   "source": [],
   "execution_count": null,
   "outputs": []
  }
 ]
}
